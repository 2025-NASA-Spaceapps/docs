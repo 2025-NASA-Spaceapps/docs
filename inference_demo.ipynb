{
  "cells": [
    {
      "cell_type": "markdown",
      "metadata": {},
      "source": [
        "# \ud83e\udd88 Sharks-from-Space \u2014 Inference Demo\n",
        "This notebook demonstrates how to combine three Hugging Face models to predict shark habitat suitability from NASA satellite-like data.\n",
        "\n",
        "Models used:\n",
        "- `facebook/timesfm-1.0` \u2014 temporal forecasting of environmental variables\n",
        "- `johannfaouzi/TimeSeriesTransformer` \u2014 spatio-temporal pattern recognition\n",
        "- `sentence-transformers/all-MiniLM-L6-v2` \u2014 natural-language reasoning layer"
      ]
    },
    {
      "cell_type": "code",
      "execution_count": null,
      "metadata": {},
      "outputs": [],
      "source": [
        "# Install dependencies if not already installed\n",
        "!pip install transformers torch sentence-transformers matplotlib xarray"
      ]
    },
    {
      "cell_type": "markdown",
      "metadata": {},
      "source": [
        "## 1\ufe0f\u20e3 Import and load models"
      ]
    },
    {
      "cell_type": "code",
      "execution_count": null,
      "metadata": {},
      "outputs": [],
      "source": [
        "from transformers import TimesFmForPrediction, TimeSeriesTransformerForPrediction\n",
        "from sentence_transformers import SentenceTransformer\n",
        "import torch, numpy as np, matplotlib.pyplot as plt\n",
        "\n",
        "# Load pre-trained models from Hugging Face\n",
        "forecast_model = TimesFmForPrediction.from_pretrained('facebook/timesfm-1.0')\n",
        "spatial_model = TimeSeriesTransformerForPrediction.from_pretrained('johannfaouzi/TimeSeriesTransformer')\n",
        "semantic_model = SentenceTransformer('sentence-transformers/all-MiniLM-L6-v2')\n",
        "\n",
        "print('\u2705 Models loaded successfully.')"
      ]
    },
    {
      "cell_type": "markdown",
      "metadata": {},
      "source": [
        "## 2\ufe0f\u20e3 Generate synthetic environmental data\n",
        "We simulate NASA satellite variables for one region over 30 days (SST, Chlorophyll, Sea Surface Height)."
      ]
    },
    {
      "cell_type": "code",
      "execution_count": null,
      "metadata": {},
      "outputs": [],
      "source": [
        "# Generate synthetic dataset: [batch, time, features]\n",
        "np.random.seed(42)\n",
        "X = torch.tensor(np.random.rand(1, 30, 3), dtype=torch.float32)\n",
        "plt.figure(figsize=(8,4))\n",
        "plt.plot(X[0,:,0], label='SST')\n",
        "plt.plot(X[0,:,1], label='Chlorophyll')\n",
        "plt.plot(X[0,:,2], label='SSH')\n",
        "plt.legend(); plt.title('Simulated NASA Variables'); plt.show()"
      ]
    },
    {
      "cell_type": "markdown",
      "metadata": {},
      "source": [
        "## 3\ufe0f\u20e3 Forecast and classify habitat suitability"
      ]
    },
    {
      "cell_type": "code",
      "execution_count": null,
      "metadata": {},
      "outputs": [],
      "source": [
        "# Forecast next 7 days with TimesFM\n",
        "with torch.no_grad():\n",
        "    forecast = forecast_model(X).prediction\n",
        "    suitability = torch.sigmoid(spatial_model(X).logits)\n",
        "\n",
        "print('Forecasted ocean variables:', forecast.shape)\n",
        "print('Predicted habitat suitability:', suitability.item())"
      ]
    },
    {
      "cell_type": "markdown",
      "metadata": {},
      "source": [
        "## 4\ufe0f\u20e3 Generate a natural-language explanation using MiniLM"
      ]
    },
    {
      "cell_type": "code",
      "execution_count": null,
      "metadata": {},
      "outputs": [],
      "source": [
        "from sentence_transformers import util\n",
        "\n",
        "query = 'Why are sharks aggregating near this location?'\n",
        "context = [\n",
        "    'Warm eddies increase prey density.',\n",
        "    'High chlorophyll indicates productive zones.',\n",
        "    'Low salinity areas correspond to nursery habitats.',\n",
        "    'Sharks prefer moderate SST and stable fronts for foraging.'\n",
        "]\n",
        "\n",
        "emb_q = semantic_model.encode(query, convert_to_tensor=True)\n",
        "emb_c = semantic_model.encode(context, convert_to_tensor=True)\n",
        "scores = util.pytorch_cos_sim(emb_q, emb_c)\n",
        "best_idx = int(torch.argmax(scores))\n",
        "print('\ud83d\udcac Explanation:', context[best_idx])"
      ]
    },
    {
      "cell_type": "markdown",
      "metadata": {},
      "source": [
        "## 5\ufe0f\u20e3 Visualize results"
      ]
    },
    {
      "cell_type": "code",
      "execution_count": null,
      "metadata": {},
      "outputs": [],
      "source": [
        "plt.figure(figsize=(6,4))\n",
        "plt.imshow(np.random.rand(10,10)*suitability.item(), cmap='turbo')\n",
        "plt.title('Predicted Shark Presence Probability Map')\n",
        "plt.colorbar(label='Probability')\n",
        "plt.show()"
      ]
    },
    {
      "cell_type": "markdown",
      "metadata": {},
      "source": [
        "## \u2705 Summary\n",
        "- Combined three pre-trained models from Hugging Face for temporal, spatial, and semantic reasoning.\n",
        "- Simulated NASA data to predict short-term shark presence probabilities.\n",
        "- Generated human-readable explanations for oceanographic conditions.\n",
        "\n",
        "This pipeline is fully open-source and reproducible, compatible with NASA\u2019s open data principles."
      ]
    }
  ],
  "metadata": {
    "kernelspec": {
      "display_name": "Python 3",
      "language": "python",
      "name": "python3"
    },
    "language_info": {
      "name": "python",
      "version": "3.x"
    }
  },
  "nbformat": 4,
  "nbformat_minor": 5
}